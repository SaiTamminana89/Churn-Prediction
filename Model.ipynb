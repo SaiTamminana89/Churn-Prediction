{
 "cells": [
  {
   "cell_type": "code",
   "execution_count": 1,
   "id": "d7ffe2bf",
   "metadata": {},
   "outputs": [
    {
     "name": "stdout",
     "output_type": "stream",
     "text": [
      "Defaulting to user installation because normal site-packages is not writeable\n",
      "Requirement already satisfied: Flask in c:\\programdata\\anaconda3\\lib\\site-packages (2.2.2)\n",
      "Requirement already satisfied: click>=8.0 in c:\\programdata\\anaconda3\\lib\\site-packages (from Flask) (8.0.4)\n",
      "Requirement already satisfied: Werkzeug>=2.2.2 in c:\\programdata\\anaconda3\\lib\\site-packages (from Flask) (2.2.2)\n",
      "Requirement already satisfied: Jinja2>=3.0 in c:\\programdata\\anaconda3\\lib\\site-packages (from Flask) (3.1.2)\n",
      "Requirement already satisfied: itsdangerous>=2.0 in c:\\programdata\\anaconda3\\lib\\site-packages (from Flask) (2.0.1)\n",
      "Requirement already satisfied: colorama in c:\\programdata\\anaconda3\\lib\\site-packages (from click>=8.0->Flask) (0.4.6)\n",
      "Requirement already satisfied: MarkupSafe>=2.0 in c:\\programdata\\anaconda3\\lib\\site-packages (from Jinja2>=3.0->Flask) (2.1.1)\n"
     ]
    }
   ],
   "source": [
    "!pip install Flask"
   ]
  },
  {
   "cell_type": "code",
   "execution_count": null,
   "id": "1afca9f7",
   "metadata": {},
   "outputs": [],
   "source": [
    "from flask import Flask, request, render_template\n",
    "import numpy as np\n",
    "import pickle\n",
    "from tensorflow.keras.models import load_model\n",
    "from sklearn.preprocessing import LabelEncoder\n",
    "enoder = LabelEncoder()\n",
    "\n",
    "model = load_model('model.joblib')\n",
    "app = Flask(__name__)\n",
    "\n",
    "@app.route('/')\n",
    "def ma():\n",
    "    return render_template(\"index.html\")\n",
    "\n",
    "@app.route('/predict', methods=['POST'])\n",
    "def index():\n",
    "    if request.method == 'POST':\n",
    "        d = {\"Male\":1,\"Female\":0}\n",
    "        age = int(request.form['age'])\n",
    "        gender = d[request.form['gender']]\n",
    "        \n",
    "        subscription_length = int(request.form['subscriptionLength'])\n",
    "        monthly_bill = int(request.form['monthlyBill'])\n",
    "        total_usage = int(request.form['totalUsage'])\n",
    "\n",
    "        # Perform your churn prediction or desired processing here\n",
    "        # Replace the following lines with your actual prediction logic\n",
    "        prediction_result = model.predict(age,gender,subscription_length,monthly_bill)\n",
    "\n",
    "    return prediction_result\n",
    "\n",
    "if __name__ == '__main__':\n",
    "    app.run(debug=True)\n"
   ]
  }
 ],
 "metadata": {
  "kernelspec": {
   "display_name": "Python 3 (ipykernel)",
   "language": "python",
   "name": "python3"
  },
  "language_info": {
   "codemirror_mode": {
    "name": "ipython",
    "version": 3
   },
   "file_extension": ".py",
   "mimetype": "text/x-python",
   "name": "python",
   "nbconvert_exporter": "python",
   "pygments_lexer": "ipython3",
   "version": "3.10.9"
  }
 },
 "nbformat": 4,
 "nbformat_minor": 5
}
