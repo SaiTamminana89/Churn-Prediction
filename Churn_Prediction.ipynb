{
  "nbformat": 4,
  "nbformat_minor": 0,
  "metadata": {
    "colab": {
      "private_outputs": true,
      "provenance": [],
      "gpuType": "T4"
    },
    "kernelspec": {
      "name": "python3",
      "display_name": "Python 3"
    },
    "language_info": {
      "name": "python"
    },
    "accelerator": "GPU"
  },
  "cells": [
    {
      "cell_type": "markdown",
      "source": [
        "#Data Collection"
      ],
      "metadata": {
        "id": "CAq8tLNjB2Of"
      }
    },
    {
      "cell_type": "code",
      "execution_count": null,
      "metadata": {
        "id": "yu1Ua0HWBhyF"
      },
      "outputs": [],
      "source": [
        "import pandas as pd"
      ]
    },
    {
      "cell_type": "code",
      "source": [
        "# reading the data\n",
        "def read_data(file):\n",
        "  data = pd.read_excel(file)\n",
        "  return data\n",
        "read_data(\"/content/customer_churn_large_dataset.xlsx\")"
      ],
      "metadata": {
        "id": "7tF0HKVUB7ZA"
      },
      "execution_count": null,
      "outputs": []
    },
    {
      "cell_type": "code",
      "source": [
        "data  = read_data(\"/content/customer_churn_large_dataset.xlsx\")"
      ],
      "metadata": {
        "id": "rLYGR8i9DH_j"
      },
      "execution_count": null,
      "outputs": []
    },
    {
      "cell_type": "markdown",
      "source": [
        "Exploring about Data"
      ],
      "metadata": {
        "id": "4no1_dWeDzDG"
      }
    },
    {
      "cell_type": "code",
      "source": [
        "# getting the information about the data\n",
        "data.info()"
      ],
      "metadata": {
        "id": "edPH0f3xC-aw"
      },
      "execution_count": null,
      "outputs": []
    },
    {
      "cell_type": "code",
      "source": [
        "# getting the data types of the column\n",
        "data.dtypes"
      ],
      "metadata": {
        "id": "iBLM0fXtDczo"
      },
      "execution_count": null,
      "outputs": []
    },
    {
      "cell_type": "code",
      "source": [
        "# shape of data\n",
        "data.shape\n",
        "# it contains 100000 rows and 9 columns"
      ],
      "metadata": {
        "id": "wsGDg2Y9Dcv2"
      },
      "execution_count": null,
      "outputs": []
    },
    {
      "cell_type": "markdown",
      "source": [
        "#Data Preprocessing"
      ],
      "metadata": {
        "id": "_xwiW9B4D7Cm"
      }
    },
    {
      "cell_type": "code",
      "source": [
        "# checking for the missing values present in the dataset\n",
        "data.isnull().sum()\n",
        "# there are no missing values present in the data"
      ],
      "metadata": {
        "id": "LnFrXBQsEGg_"
      },
      "execution_count": null,
      "outputs": []
    },
    {
      "cell_type": "code",
      "source": [
        "# checking for the duplicate values in the datset\n",
        "data.duplicated().sum()\n",
        "# there are no duplicates in the data"
      ],
      "metadata": {
        "id": "6g7djCloFu1f"
      },
      "execution_count": null,
      "outputs": []
    },
    {
      "cell_type": "code",
      "source": [
        "# checking for the outliers present in the data"
      ],
      "metadata": {
        "id": "fYwB1T9REUQt"
      },
      "execution_count": null,
      "outputs": []
    },
    {
      "cell_type": "markdown",
      "source": [
        "######Outlier analysis using Boxplot"
      ],
      "metadata": {
        "id": "a19BvOShF508"
      }
    },
    {
      "cell_type": "code",
      "source": [
        "import matplotlib.pyplot as plt\n",
        "plt.figure(figsize=(15,10))\n",
        "plt.subplot(1,4,1)\n",
        "plt.title('subscription length months')\n",
        "plt.boxplot(data['Subscription_Length_Months'])\n",
        "plt.subplot(1,4,2)\n",
        "plt.title('Monthly_Bill')\n",
        "plt.boxplot(data['Monthly_Bill'])\n",
        "plt.subplot(1,4,3)\n",
        "plt.title('subscription length months')\n",
        "plt.boxplot(data['Total_Usage_GB'])\n",
        "plt.subplot(1,4,4)\n",
        "plt.title('Age')\n",
        "plt.boxplot(data['Age'])\n",
        "plt.show()"
      ],
      "metadata": {
        "id": "NUCyMcdlF391"
      },
      "execution_count": null,
      "outputs": []
    },
    {
      "cell_type": "markdown",
      "source": [
        "Insights:\n",
        "\n",
        "After analyzing the Comtinious variable using boxplot i have figured out that ther are no outliers in the dataset"
      ],
      "metadata": {
        "id": "CwsR4odcJfi3"
      }
    },
    {
      "cell_type": "markdown",
      "source": [
        "Feature Encoding"
      ],
      "metadata": {
        "id": "w622T79YJ_b4"
      }
    },
    {
      "cell_type": "code",
      "source": [
        "# encoding the categorical variables"
      ],
      "metadata": {
        "id": "lHp9-RyWKBqT"
      },
      "execution_count": null,
      "outputs": []
    },
    {
      "cell_type": "code",
      "source": [
        "from sklearn.preprocessing import LabelEncoder"
      ],
      "metadata": {
        "id": "39hpfoafKPvS"
      },
      "execution_count": null,
      "outputs": []
    },
    {
      "cell_type": "code",
      "source": [
        "data.head(2)"
      ],
      "metadata": {
        "id": "NuoRfuNbKkAf"
      },
      "execution_count": null,
      "outputs": []
    },
    {
      "cell_type": "code",
      "source": [
        "# i don't want to encode Name column present in the dataset because it doesn't impact the target variable much"
      ],
      "metadata": {
        "id": "IlNSl7mPKwwx"
      },
      "execution_count": null,
      "outputs": []
    },
    {
      "cell_type": "code",
      "source": [
        "data.dtypes"
      ],
      "metadata": {
        "id": "qu-nVVDoLH9V"
      },
      "execution_count": null,
      "outputs": []
    },
    {
      "cell_type": "code",
      "source": [
        "# encoding function\n",
        "def encode(data):\n",
        "  encoder = LabelEncoder()\n",
        "  for column in data.columns:\n",
        "    if (data[column].dtype==object) and (column!='Name'):\n",
        "      data[column] = encoder.fit_transform(data[column])\n",
        "  return data"
      ],
      "metadata": {
        "id": "VkpnS0p-K7EG"
      },
      "execution_count": null,
      "outputs": []
    },
    {
      "cell_type": "code",
      "source": [
        "data  = encode(data)"
      ],
      "metadata": {
        "id": "eWXWINJOL267"
      },
      "execution_count": null,
      "outputs": []
    },
    {
      "cell_type": "code",
      "source": [
        "data.head(5)"
      ],
      "metadata": {
        "id": "BWB8hvsfMSrI"
      },
      "execution_count": null,
      "outputs": []
    },
    {
      "cell_type": "code",
      "source": [
        "# the data is encoded"
      ],
      "metadata": {
        "id": "-eNGJV4ZPc8v"
      },
      "execution_count": null,
      "outputs": []
    },
    {
      "cell_type": "code",
      "source": [
        "# In order to know about unique values\n",
        "data['Gender'].unique()\n",
        "data['Location'].unique()"
      ],
      "metadata": {
        "id": "OhQiJs-sNrsL"
      },
      "execution_count": null,
      "outputs": []
    },
    {
      "cell_type": "markdown",
      "source": [
        "Feature Engineering"
      ],
      "metadata": {
        "id": "bi-liaBXPtZt"
      }
    },
    {
      "cell_type": "code",
      "source": [
        "data.head()\n",
        "# i want to create another Feature based on below features\n",
        "# total amount paid"
      ],
      "metadata": {
        "id": "zfL6h58zPrCD"
      },
      "execution_count": null,
      "outputs": []
    },
    {
      "cell_type": "code",
      "source": [
        "# creating two features\n",
        "data['Sub_More_ThanYear'] =data['Subscription_Length_Months']>=12"
      ],
      "metadata": {
        "id": "IPF_7-GlSOrU"
      },
      "execution_count": null,
      "outputs": []
    },
    {
      "cell_type": "code",
      "source": [
        "data['Total_Money_Paid'] = data['Subscription_Length_Months']*data['Monthly_Bill']"
      ],
      "metadata": {
        "id": "WEwn7jsHT3wh"
      },
      "execution_count": null,
      "outputs": []
    },
    {
      "cell_type": "code",
      "source": [
        "# I am again using the function i have created in order to convert the categorical column into numerical"
      ],
      "metadata": {
        "id": "5UVe0wnzYrxH"
      },
      "execution_count": null,
      "outputs": []
    },
    {
      "cell_type": "code",
      "source": [
        "encoder = LabelEncoder()\n",
        "data['Sub_More_ThanYear'] = encoder.fit_transform(data['Sub_More_ThanYear'])"
      ],
      "metadata": {
        "id": "kwV5FtD6YyRh"
      },
      "execution_count": null,
      "outputs": []
    },
    {
      "cell_type": "markdown",
      "source": [
        "Feature Scaling"
      ],
      "metadata": {
        "id": "MfpP-X9sV2k7"
      }
    },
    {
      "cell_type": "code",
      "source": [
        "data.head(2)"
      ],
      "metadata": {
        "id": "Og1LW4kZWMxt"
      },
      "execution_count": null,
      "outputs": []
    },
    {
      "cell_type": "code",
      "source": [
        "print(data['Total_Money_Paid'].max())\n",
        "print(data['Total_Money_Paid'].min())\n",
        "print(data['Total_Usage_GB'].max())\n",
        "print(data['Total_Usage_GB'].min())"
      ],
      "metadata": {
        "id": "4tjztN_RWY2W"
      },
      "execution_count": null,
      "outputs": []
    },
    {
      "cell_type": "code",
      "source": [
        "# there is no need of feature scaling because all continious values are in normal range which are some what computationally effective"
      ],
      "metadata": {
        "id": "FcpuAh14WQHd"
      },
      "execution_count": null,
      "outputs": []
    },
    {
      "cell_type": "code",
      "source": [
        "data"
      ],
      "metadata": {
        "id": "zCcEdec4XEo3"
      },
      "execution_count": null,
      "outputs": []
    },
    {
      "cell_type": "code",
      "source": [
        "# Here i am removing some columns that not effect the taregt column like Name,CustomerId"
      ],
      "metadata": {
        "id": "halP2X9zXQaZ"
      },
      "execution_count": null,
      "outputs": []
    },
    {
      "cell_type": "code",
      "source": [
        "data  = data.drop(columns =['CustomerID','Name'],axis=1)"
      ],
      "metadata": {
        "id": "UVJgkGBbXd91"
      },
      "execution_count": null,
      "outputs": []
    },
    {
      "cell_type": "markdown",
      "source": [
        "Feature Selection"
      ],
      "metadata": {
        "id": "ZJjXB9noXvT7"
      }
    },
    {
      "cell_type": "code",
      "source": [
        "# Before selecting the feature i want to analyze the relationship between the columns in the data"
      ],
      "metadata": {
        "id": "Aw8VqjoiXmRC"
      },
      "execution_count": null,
      "outputs": []
    },
    {
      "cell_type": "code",
      "source": [
        "data.corr()\n",
        "# this gives the correlation between the columns"
      ],
      "metadata": {
        "id": "LlBQjbz_X4we"
      },
      "execution_count": null,
      "outputs": []
    },
    {
      "cell_type": "code",
      "source": [
        "# after analyzing the relationship between and the variables and considering my doamain knowledge i am selecting the features"
      ],
      "metadata": {
        "id": "0SUeMdGYYCbV"
      },
      "execution_count": null,
      "outputs": []
    },
    {
      "cell_type": "code",
      "source": [
        "data.head(1)"
      ],
      "metadata": {
        "id": "zfhhOIgMt-sJ"
      },
      "execution_count": null,
      "outputs": []
    },
    {
      "cell_type": "code",
      "source": [
        "data.head(2)"
      ],
      "metadata": {
        "id": "l1Ct5xqa8zuG"
      },
      "execution_count": null,
      "outputs": []
    },
    {
      "cell_type": "code",
      "source": [
        "x  = data.iloc[:,[0,1,3,4,5]]\n",
        "y = data.iloc[:,[6]]"
      ],
      "metadata": {
        "id": "THxgSQEOYNGh"
      },
      "execution_count": null,
      "outputs": []
    },
    {
      "cell_type": "code",
      "source": [
        "from sklearn.model_selection import train_test_split"
      ],
      "metadata": {
        "id": "W6rFY_U5YcZN"
      },
      "execution_count": null,
      "outputs": []
    },
    {
      "cell_type": "code",
      "source": [
        "x_train,x_test,y_train,y_test = train_test_split(x,y,test_size=0.15)"
      ],
      "metadata": {
        "id": "0MaBqYgDooO7"
      },
      "execution_count": null,
      "outputs": []
    },
    {
      "cell_type": "code",
      "source": [
        "data.head()"
      ],
      "metadata": {
        "id": "9YqeqrUSozJv"
      },
      "execution_count": null,
      "outputs": []
    },
    {
      "cell_type": "code",
      "source": [
        "y_train"
      ],
      "metadata": {
        "id": "WA1cl1_VpC-Q"
      },
      "execution_count": null,
      "outputs": []
    },
    {
      "cell_type": "code",
      "source": [
        "print(x_train.shape)\n",
        "print(x_test.shape)\n",
        "print(y_train.shape)\n",
        "print(y_test.shape)"
      ],
      "metadata": {
        "id": "YVIwp6MgpFwv"
      },
      "execution_count": null,
      "outputs": []
    },
    {
      "cell_type": "code",
      "source": [
        "data.columns"
      ],
      "metadata": {
        "id": "Y4AYNUtI0JxE"
      },
      "execution_count": null,
      "outputs": []
    },
    {
      "cell_type": "code",
      "source": [
        "y_test = y_test.values"
      ],
      "metadata": {
        "id": "qSUieHq4sog2"
      },
      "execution_count": null,
      "outputs": []
    },
    {
      "cell_type": "markdown",
      "source": [
        "#Model Building"
      ],
      "metadata": {
        "id": "8-7muhKYqPvJ"
      }
    },
    {
      "cell_type": "code",
      "source": [
        "x_train.head(1)"
      ],
      "metadata": {
        "id": "1Y_WVaZeF9QI"
      },
      "execution_count": null,
      "outputs": []
    },
    {
      "cell_type": "code",
      "source": [
        "from sklearn.linear_model import SGDClassifier"
      ],
      "metadata": {
        "id": "KP7w0QUKGGG6"
      },
      "execution_count": null,
      "outputs": []
    },
    {
      "cell_type": "markdown",
      "source": [
        "#Model FineTuning with random Parameters"
      ],
      "metadata": {
        "id": "fCxS56CyppSS"
      }
    },
    {
      "cell_type": "code",
      "source": [
        "model = SGDClassifier(alpha=0.001, max_iter=3000, penalty='l1')\n",
        "model.fit(x_train,y_train)"
      ],
      "metadata": {
        "id": "RCRZlJMHK6pp"
      },
      "execution_count": null,
      "outputs": []
    },
    {
      "cell_type": "markdown",
      "source": [
        "#Model Evaluation"
      ],
      "metadata": {
        "id": "ItFKYGEqibSc"
      }
    },
    {
      "cell_type": "code",
      "source": [
        "pred_y = model.predict(x_test)"
      ],
      "metadata": {
        "id": "RarOOXbHL2Pn"
      },
      "execution_count": null,
      "outputs": []
    },
    {
      "cell_type": "code",
      "source": [
        "from sklearn.metrics import accuracy_score,recall_score,precision_score,f1_score"
      ],
      "metadata": {
        "id": "Fa-6SdkEHvbX"
      },
      "execution_count": null,
      "outputs": []
    },
    {
      "cell_type": "code",
      "source": [
        "accuracy_score(pred_y,y_test)"
      ],
      "metadata": {
        "id": "7MvKaaWgQqTU"
      },
      "execution_count": null,
      "outputs": []
    },
    {
      "cell_type": "code",
      "source": [
        "# the f1_score of the model is 66 this means model is perform is very well"
      ],
      "metadata": {
        "id": "xBKnEJTLjtlI"
      },
      "execution_count": null,
      "outputs": []
    },
    {
      "cell_type": "markdown",
      "source": [
        "#Model Saving"
      ],
      "metadata": {
        "id": "ilqnRuEEjp1g"
      }
    },
    {
      "cell_type": "code",
      "source": [
        "import joblib\n",
        "\n",
        "# Save the trained model to a file\n",
        "model_filename = 'model.joblib'\n",
        "joblib.dump(model, model_filename)\n"
      ],
      "metadata": {
        "id": "iSxIxeiBheFn"
      },
      "execution_count": null,
      "outputs": []
    },
    {
      "cell_type": "code",
      "source": [
        "x_train"
      ],
      "metadata": {
        "id": "hHVipbprBLfa"
      },
      "execution_count": null,
      "outputs": []
    },
    {
      "cell_type": "code",
      "source": [
        "d = {'h':1}\n",
        "a = 's'"
      ],
      "metadata": {
        "id": "YWtxgvEwHhHS"
      },
      "execution_count": null,
      "outputs": []
    }
  ]
}